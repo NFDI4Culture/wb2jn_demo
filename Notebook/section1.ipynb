{
 "cells": [
  {
   "cell_type": "code",
   "execution_count": 1,
   "id": "112a3dbb-5e1d-4f31-89dc-8b73a415eb3d",
   "metadata": {},
   "outputs": [
    {
     "data": {
      "text/markdown": [
       "# Ausstellung: Stuttgart, Schloss Solitude\n",
       "\n",
       "![Wanddekoration mit Blumengirlanden. Foto: Bunz, Achim](https://previous.bildindex.de/bilder/fmd10013272a.jpg){group=\"photos\"}\n",
       "\n",
       "\\newpage\n",
       "\n",
       "![Die Andacht. Foto: Seeger, Ulrike](https://deckenmalerei-bilder.badw.de/api/v1/objects/uuid/e5656e66-1071-4eb8-8484-d61b80d0bc0e/file/id/154783/file_version/name/preview){group=\"photos\"}\n",
       "\n",
       "\\newpage\n",
       "\n",
       "![Auferstehung Christi. Foto: Bunz, Achim](https://previous.bildindex.de/bilder/fmd10013274a.jpg){group=\"photos\"}\n",
       "\n",
       "\\newpage\n",
       "\n",
       "![Auferstehung Christi. Foto: Bunz, Achim](https://previous.bildindex.de/bilder/fmd10013273a.jpg){group=\"photos\"}\n",
       "\n",
       "\\newpage\n",
       "\n",
       "![Moses mit den Gesetzestafeln. Foto: Bunz, Achim](https://previous.bildindex.de/bilder/fmd10013277a.jpg){group=\"photos\"}\n",
       "\n",
       "\\newpage\n",
       "\n",
       "![Ruinenlandschaften. Foto: Bunz, Achim](https://previous.bildindex.de/bilder/fmd10013289a.jpg){group=\"photos\"}\n",
       "\n",
       "\\newpage\n",
       "\n",
       "![Wanddekoration mit Blumengirlanden. Foto: Bunz, Achim](https://previous.bildindex.de/bilder/fmd10013290a.jpg){group=\"photos\"}\n",
       "\n",
       "\\newpage\n",
       "\n",
       "![Zwickelfelder der Voute. Foto: Bunz, Achim](https://previous.bildindex.de/bilder/fmd10013283a.jpg){group=\"photos\"}\n",
       "\n",
       "\\newpage\n",
       "\n",
       "![Zwickelfelder der Voute. Foto: Bunz, Achim](https://previous.bildindex.de/bilder/fmd10013280a.jpg){group=\"photos\"}\n",
       "\n",
       "\\newpage\n",
       "\n",
       "![Die Regierung Herzog Carl Eugens befördert das Wohlergehen des Landes. Foto: Bunz, Achim](https://previous.bildindex.de/bilder/fmd10013282a.jpg){group=\"photos\"}\n",
       "\n",
       "\\newpage\n",
       "\n",
       "![Die Regierung Herzog Carl Eugens befördert das Wohlergehen des Landes. Foto: Bunz, Achim](https://previous.bildindex.de/bilder/fmd10013279a.jpg){group=\"photos\"}\n",
       "\n",
       "\\newpage\n",
       "\n",
       "![Die Regierung Herzog Carl Eugens befördert das Wohlergehen des Landes. Foto: Bunz, Achim](https://previous.bildindex.de/bilder/fmd10013280a.jpg){group=\"photos\"}\n",
       "\n",
       "\\newpage\n",
       "\n",
       "![Die Regierung Herzog Carl Eugens befördert das Wohlergehen des Landes. Foto: Bunz, Achim](https://previous.bildindex.de/bilder/fmd10013281a.jpg){group=\"photos\"}\n",
       "\n",
       "\\newpage\n",
       "\n",
       "![Aurora. Foto: Bunz, Achim](https://previous.bildindex.de/bilder/fmd10013286a.jpg){group=\"photos\"}\n",
       "\n",
       "\\newpage\n"
      ],
      "text/plain": [
       "<IPython.core.display.Markdown object>"
      ]
     },
     "execution_count": 1,
     "metadata": {},
     "output_type": "execute_result"
    }
   ],
   "source": [
    "# SPARQL QUERY OBJECT\n",
    "from cps_impress.sparql import SPARQL\n",
    "obj = SPARQL(\"section1\")\n",
    "\n",
    "# MARKDOWN TEMPLATE VIEW\n",
    "from IPython.display import display, Markdown\n",
    "Markdown(obj.template(\"md\", False))"
   ]
  }
 ],
 "metadata": {
  "kernelspec": {
   "display_name": "Python 3 (ipykernel)",
   "language": "python",
   "name": "python3"
  },
  "language_info": {
   "codemirror_mode": {
    "name": "ipython",
    "version": 3
   },
   "file_extension": ".py",
   "mimetype": "text/x-python",
   "name": "python",
   "nbconvert_exporter": "python",
   "pygments_lexer": "ipython3",
   "version": "3.11.2"
  }
 },
 "nbformat": 4,
 "nbformat_minor": 5
}
